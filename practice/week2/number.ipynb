{
 "cells": [
  {
   "cell_type": "code",
   "execution_count": 3,
   "id": "6c965e57",
   "metadata": {},
   "outputs": [
    {
     "name": "stdout",
     "output_type": "stream",
     "text": [
      "What do you call a bear with no teeth? \n",
      "A gummy bear!\n"
     ]
    }
   ],
   "source": [
    "print(\"What do you call a bear with no teeth? \\nA gummy bear!\")"
   ]
  },
  {
   "cell_type": "code",
   "execution_count": 4,
   "id": "484d72a1",
   "metadata": {
    "scrolled": true
   },
   "outputs": [
    {
     "name": "stdout",
     "output_type": "stream",
     "text": [
      "Enter your name:한동호\n",
      "Hello 한동호\n"
     ]
    }
   ],
   "source": [
    "a = input(\"Enter your name:\")\n",
    "print(\"Hello\",a)"
   ]
  },
  {
   "cell_type": "code",
   "execution_count": 5,
   "id": "3563347a",
   "metadata": {},
   "outputs": [
    {
     "name": "stdout",
     "output_type": "stream",
     "text": [
      "Enter your name:동호\n",
      "Enter your last name:한\n",
      "Hello 동호 한\n"
     ]
    }
   ],
   "source": [
    "a = input(\"Enter your name:\")\n",
    "b = input(\"Enter your last name:\")\n",
    "print(\"Hello\",a,b)"
   ]
  },
  {
   "cell_type": "code",
   "execution_count": 8,
   "id": "3274c967",
   "metadata": {},
   "outputs": [
    {
     "name": "stdout",
     "output_type": "stream",
     "text": [
      "Enter the first number:1\n",
      "Enter the second number:2\n",
      "a+b= 3\n"
     ]
    }
   ],
   "source": [
    "a = int(input(\"Enter the first number:\"))\n",
    "b = int(input(\"Enter the second number:\"))\n",
    "print(\"a+b=\",a+b)"
   ]
  },
  {
   "cell_type": "code",
   "execution_count": 9,
   "id": "1e4d2282",
   "metadata": {},
   "outputs": [
    {
     "name": "stdout",
     "output_type": "stream",
     "text": [
      "Enter the first number:1\n",
      "Enter the second number:2\n",
      "Enter the third number:3\n",
      "a+b+c= 6\n"
     ]
    }
   ],
   "source": [
    "a = int(input(\"Enter the first number:\"))\n",
    "b = int(input(\"Enter the second number:\"))\n",
    "c = int(input(\"Enter the third number:\"))\n",
    "print(\"a+b+c=\",a+b+c)"
   ]
  },
  {
   "cell_type": "code",
   "execution_count": 10,
   "id": "bce17165",
   "metadata": {},
   "outputs": [
    {
     "name": "stdout",
     "output_type": "stream",
     "text": [
      "Enter the number of slices of pizza you started with:4\n",
      "How many slices have you eaten?:3\n",
      "You have 1 slicing remaining.\n"
     ]
    }
   ],
   "source": [
    "a=int(input(\"Enter the number of slices of pizza you started with:\"))\n",
    "b=int(input(\"How many slices have you eaten?:\"))\n",
    "print(\"You have\",a-b,\"slicing remaining.\")\n",
    "\n"
   ]
  },
  {
   "cell_type": "code",
   "execution_count": 13,
   "id": "7c97e6f2",
   "metadata": {},
   "outputs": [
    {
     "name": "stdout",
     "output_type": "stream",
     "text": [
      "What is your name?동호\n",
      "How old are you? 23\n",
      "동호 next birthday you will be 24\n"
     ]
    }
   ],
   "source": [
    "a=input(\"What is your name?\")\n",
    "b=int(input(\"How old are you? \"))\n",
    "print(a,\", next birthday you will be\",b+1)"
   ]
  },
  {
   "cell_type": "code",
   "execution_count": 16,
   "id": "2c1cf908",
   "metadata": {},
   "outputs": [
    {
     "name": "stdout",
     "output_type": "stream",
     "text": [
      "What is the total cost of the bill?4000\n",
      "How many people are there? 4\n",
      "Each person should pay 1000.0 won.\n"
     ]
    }
   ],
   "source": [
    "a=int(input(\"What is the total cost of the bill?\"))\n",
    "b=int(input(\"How many people are there? \"))\n",
    "print(\"Each person should pay\",a/b,\"won.\")"
   ]
  },
  {
   "cell_type": "code",
   "execution_count": 1,
   "id": "60fa4c14",
   "metadata": {},
   "outputs": [
    {
     "name": "stdout",
     "output_type": "stream",
     "text": [
      "Enter the number of days10\n",
      "In 10  days there are…\n",
      "240 hours\n",
      "14400 minutes\n",
      "864000 seconds\n"
     ]
    }
   ],
   "source": [
    "a=int(input(\"Enter the number of days\"))\n",
    "print(\"In\",a,\" days there are…\")\n",
    "print(24*a,\"hours\")\n",
    "print(60*24*a,\"minutes\")\n",
    "print(60*60*24*a,\"seconds\")\n",
    "\n",
    "\n"
   ]
  },
  {
   "cell_type": "code",
   "execution_count": 4,
   "id": "757ce682",
   "metadata": {},
   "outputs": [
    {
     "name": "stdout",
     "output_type": "stream",
     "text": [
      "Enter the number of kilos:10\n",
      "that is 10 pounds\n"
     ]
    }
   ],
   "source": [
    "a=int(input(\"Enter the number of kilos:\"))\n",
    "print(\"that is\",a,\"pounds\")"
   ]
  },
  {
   "cell_type": "code",
   "execution_count": 11,
   "id": "9dff56f4",
   "metadata": {},
   "outputs": [
    {
     "name": "stdout",
     "output_type": "stream",
     "text": [
      "Enter the number over10 :15\n",
      "Enter the number over100 :120\n",
      "15 goes into 120 8 times\n"
     ]
    }
   ],
   "source": [
    "a=int(input(\"Enter the number over10 :\"))\n",
    "b=int(input(\"Enter the number over100 :\"))\n",
    "x =int(b/a)\n",
    "print(a,\"goes into\",b,x,\"times\")"
   ]
  }
 ],
 "metadata": {
  "kernelspec": {
   "display_name": "Python 3 (ipykernel)",
   "language": "python",
   "name": "python3"
  },
  "language_info": {
   "codemirror_mode": {
    "name": "ipython",
    "version": 3
   },
   "file_extension": ".py",
   "mimetype": "text/x-python",
   "name": "python",
   "nbconvert_exporter": "python",
   "pygments_lexer": "ipython3",
   "version": "3.11.4"
  }
 },
 "nbformat": 4,
 "nbformat_minor": 5
}
