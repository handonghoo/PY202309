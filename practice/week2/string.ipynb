{
 "cells": [
  {
   "cell_type": "code",
   "execution_count": 2,
   "id": "fea578b8",
   "metadata": {},
   "outputs": [
    {
     "name": "stdout",
     "output_type": "stream",
     "text": [
      "Enter your first name : gks\n",
      "The length of your name is  3\n"
     ]
    }
   ],
   "source": [
    "#이름의 길이를 입력후, 문장으로 출력합니다\n",
    "\n",
    "a =len(input(\"Enter your first name : \"))\n",
    "print(\"The length of your name is \",a)\n"
   ]
  },
  {
   "cell_type": "code",
   "execution_count": 4,
   "id": "b1084708",
   "metadata": {},
   "outputs": [
    {
     "name": "stdout",
     "output_type": "stream",
     "text": [
      "Enter your first name : 한\n",
      "Enter your last name : 동호\n",
      "Your name with a blank is  한동호\n",
      "The total length is   3\n"
     ]
    }
   ],
   "source": [
    "#첫이름과 나중이름을 입력후 합칩니다\n",
    "a =input(\"Enter your first name : \")\n",
    "b =input(\"Enter your last name : \")\n",
    "c=len(a+b)\n",
    "#문장과 함께 출력\n",
    "print(\"Your name with a blank is \",a+b)\n",
    "print(\"The total length is  \",c)"
   ]
  },
  {
   "cell_type": "code",
   "execution_count": null,
   "id": "ae181d81",
   "metadata": {},
   "outputs": [],
   "source": []
  }
 ],
 "metadata": {
  "kernelspec": {
   "display_name": "Python 3 (ipykernel)",
   "language": "python",
   "name": "python3"
  },
  "language_info": {
   "codemirror_mode": {
    "name": "ipython",
    "version": 3
   },
   "file_extension": ".py",
   "mimetype": "text/x-python",
   "name": "python",
   "nbconvert_exporter": "python",
   "pygments_lexer": "ipython3",
   "version": "3.11.4"
  }
 },
 "nbformat": 4,
 "nbformat_minor": 5
}
