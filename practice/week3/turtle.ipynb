{
 "cells": [
  {
   "cell_type": "code",
   "execution_count": 4,
   "id": "58b2dd5a",
   "metadata": {},
   "outputs": [
    {
     "name": "stdout",
     "output_type": "stream",
     "text": [
      "turtle bye\n"
     ]
    }
   ],
   "source": [
    "import turtle\n",
    "t = turtle.Turtle()\n",
    "t.left(90)\n",
    "\n",
    "#Define word frequencies\n",
    "word_freq = {\"apple\":5,\"banana\":8,\"cheery\":2,\"grape\":1}\n",
    "\n",
    "#Set  the initial X-location\n",
    "x = -200\n",
    "for word, freq in word_freq.items():\n",
    "    t.penup()\n",
    "    t.goto(x,0)\n",
    "    \n",
    "    #Print word-frequency\n",
    "    t.write(f\"{word}:{freq}\",font = (\"Arial\",12,\"normal\"))\n",
    "    \n",
    "    #Draw the up-line based on frequency\n",
    "    t.goto(x,30)\n",
    "    t.pendown()\n",
    "    t.forward(freq*10)#Draw a bar of length proportional to the  frequency\n",
    "    \n",
    "    x += 100 #Set the next position\n",
    "    \n",
    "turtle.done()\n",
    "try:\n",
    "    turtle.bye()\n",
    "except:\n",
    "    print(\"turtle bye\")\n",
    "    \n",
    "    \n",
    "    \n",
    "    \n",
    "    \n",
    "    \n",
    "    "
   ]
  },
  {
   "cell_type": "code",
   "execution_count": null,
   "id": "58421142",
   "metadata": {},
   "outputs": [],
   "source": []
  },
  {
   "cell_type": "code",
   "execution_count": null,
   "id": "55bb76d9",
   "metadata": {},
   "outputs": [],
   "source": []
  },
  {
   "cell_type": "code",
   "execution_count": null,
   "id": "613503c8",
   "metadata": {},
   "outputs": [],
   "source": []
  }
 ],
 "metadata": {
  "kernelspec": {
   "display_name": "Python 3 (ipykernel)",
   "language": "python",
   "name": "python3"
  },
  "language_info": {
   "codemirror_mode": {
    "name": "ipython",
    "version": 3
   },
   "file_extension": ".py",
   "mimetype": "text/x-python",
   "name": "python",
   "nbconvert_exporter": "python",
   "pygments_lexer": "ipython3",
   "version": "3.11.4"
  }
 },
 "nbformat": 4,
 "nbformat_minor": 5
}
