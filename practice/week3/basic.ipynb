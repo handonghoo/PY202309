{
 "cells": [
  {
   "cell_type": "code",
   "execution_count": 1,
   "id": "1f73c23f",
   "metadata": {},
   "outputs": [
    {
     "name": "stdout",
     "output_type": "stream",
     "text": [
      "1. current list =  [30, 10, 20, 50, 40]\n",
      "2. append(60) =  [30, 10, 20, 50, 40, 60]\n",
      "3. item after pop =  60\n",
      "4. list after pop =  [30, 10, 20, 50, 40]\n",
      "5. after sort() =  [30, 10, 20, 50, 40]\n",
      "6. after reverse() =  [30, 10, 20, 50, 40]\n",
      "7. Index for 20 =  2\n",
      "8. after insert(2,222) =  [30, 10, 20, 50, 40]\n",
      "9. after remove(2,222) =  [30, 10, 20, 50, 40]\n",
      "10. after extend([100,200,100]) =  [30, 10, 20, 50, 40, 100, 200, 100]\n",
      "11. the number of 100 =  2\n"
     ]
    }
   ],
   "source": [
    "smaple_list = [30,10,20,50,40]\n",
    "print (\"1. current list = \",smaple_list) #만든 리스트를 출력합니다\n",
    "\n",
    "smaple_list.append(60)\n",
    "print (\"2. append(60) = \",smaple_list)#리스트에 60을 더합니다. [30,10,20,50,40,60]\n",
    "\n",
    "print (\"3. item after pop = \",smaple_list.pop())\n",
    "print (\"4. list after pop = \",smaple_list)\n",
    "# 리스트에서 마지막 값을 제거합니다 \n",
    "#팝을 하면 60이 사라지고 [30,10,20,50,40]가 출력됩니다.\n",
    "smaple_list.sort\n",
    "print (\"5. after sort() = \",smaple_list)\n",
    "#순차적으로 배열합니다.\n",
    "smaple_list.reverse\n",
    "print (\"6. after reverse() = \",smaple_list)\n",
    "#역 순차적으로 배열합니다. \n",
    "print (\"7. Index for 20 = \",smaple_list.index(20))\n",
    "# 20이라는 요소의 위치를 출력합니다. \n",
    "smaple_list.insert\n",
    "print (\"8. after insert(2,222) = \",smaple_list)\n",
    "# 세번째자리에 222를 넣습니다. \n",
    "smaple_list.reverse\n",
    "print (\"9. after remove(2,222) = \",smaple_list)\n",
    "#세번째 자리의 222를 제거합니다 \n",
    "new_list = [100,200,100]\n",
    "smaple_list.extend(new_list)\n",
    "print (\"10. after extend([100,200,100]) = \",smaple_list)\n",
    "# 100,200,300을 끝에 추가합니다. \n",
    "print (\"11. the number of 100 = \",smaple_list.count(100))\n",
    "#100의 빈도수를 셉니다"
   ]
  },
  {
   "cell_type": "code",
   "execution_count": 1,
   "id": "72b0fcb0",
   "metadata": {},
   "outputs": [
    {
     "name": "stdout",
     "output_type": "stream",
     "text": [
      "turtle bye!\n"
     ]
    }
   ],
   "source": [
    "import turtle\n",
    "t=turtle.Turtle()\n",
    "radius_list = [100,200,50]\n",
    "move = 20\n",
    "\n",
    "t.shape(\"turtle\")\n",
    "\n",
    "for i in range(0,len(radius_list)):\n",
    "    radius = radius_list[i]\n",
    "    t.circle(radius)\n",
    "    t.fd(move)\n",
    "    \n",
    "turtle.done()\n",
    "try : \n",
    "    turtle.bye()\n",
    "except:\n",
    "    print(\"turtle bye!\")\n",
    "\n",
    "\n"
   ]
  },
  {
   "cell_type": "code",
   "execution_count": null,
   "id": "2fb146a3",
   "metadata": {},
   "outputs": [],
   "source": []
  }
 ],
 "metadata": {
  "kernelspec": {
   "display_name": "Python 3 (ipykernel)",
   "language": "python",
   "name": "python3"
  },
  "language_info": {
   "codemirror_mode": {
    "name": "ipython",
    "version": 3
   },
   "file_extension": ".py",
   "mimetype": "text/x-python",
   "name": "python",
   "nbconvert_exporter": "python",
   "pygments_lexer": "ipython3",
   "version": "3.11.4"
  }
 },
 "nbformat": 4,
 "nbformat_minor": 5
}
