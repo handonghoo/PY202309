{
 "cells": [
  {
   "cell_type": "code",
   "execution_count": 1,
   "id": "533201fd",
   "metadata": {},
   "outputs": [
    {
     "name": "stdout",
     "output_type": "stream",
     "text": [
      "** Start Lotto **\n",
      "Number: 6 17 25 26 27 43 "
     ]
    }
   ],
   "source": [
    "#랜덤모듈을 불러옵니다.\n",
    "import random\n",
    "# 번호를 생성하기 위한 함수\n",
    "def get_number():\n",
    "    return random.randrange(1, 46)\n",
    "#로또 번호를 받을 리스트 초기화\n",
    "lotto = []\n",
    "num = 0\n",
    "#반복문을 이용해 로또 번호를 받아서 리스트에 추가합니다.\n",
    "print(\"** Start Lotto **\")\n",
    "while True:\n",
    "    num = get_number()\n",
    "    if lotto.count(num) == 0:\n",
    "        lotto.append(num)\n",
    "    if len(lotto) >= 6:\n",
    "        break\n",
    "#번호를 정렬하고 로또번호를 출력합니다. \n",
    "lotto.sort()\n",
    "print(\"Number: \", end=\"\")\n",
    "for number in lotto:\n",
    "    print(number, end=\" \")\n"
   ]
  },
  {
   "cell_type": "code",
   "execution_count": null,
   "id": "efad0583",
   "metadata": {},
   "outputs": [],
   "source": []
  }
 ],
 "metadata": {
  "kernelspec": {
   "display_name": "Python 3 (ipykernel)",
   "language": "python",
   "name": "python3"
  },
  "language_info": {
   "codemirror_mode": {
    "name": "ipython",
    "version": 3
   },
   "file_extension": ".py",
   "mimetype": "text/x-python",
   "name": "python",
   "nbconvert_exporter": "python",
   "pygments_lexer": "ipython3",
   "version": "3.11.4"
  }
 },
 "nbformat": 4,
 "nbformat_minor": 5
}
