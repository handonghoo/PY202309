{
 "cells": [
  {
   "cell_type": "code",
   "execution_count": 2,
   "id": "af6a5aa1",
   "metadata": {},
   "outputs": [
    {
     "name": "stdout",
     "output_type": "stream",
     "text": [
      "turtle bye!\n"
     ]
    }
   ],
   "source": [
    "import turtle\n",
    "#거북이 모듈을 불러옵니다.\n",
    "screen_width, screen_height = 100, 100\n",
    "#거북이가 나올 스크린크기, 위치, 아이콘의 모양을 지정합니다.\n",
    "turtle.title(\"Drawing rainbow circles\")\n",
    "turtle.shape(\"turtle\")\n",
    "turtle.setup(width=screen_width + 50, height=screen_height + 50)\n",
    "turtle.screensize(screen_width, screen_height)\n",
    "\n",
    "turtle.penup()\n",
    "turtle.goto(0, -screen_height / 2)\n",
    "turtle.pendown()\n",
    "turtle.speed(5)\n",
    "#반복문을 통해 무지개 색깔의 풍선을 그립니다.\n",
    "for radius in range(1, 50):\n",
    "    if radius % 7 == 0:\n",
    "        turtle.pencolor(\"red\")\n",
    "    elif radius % 7 == 1:\n",
    "        turtle.pencolor(\"orange\")\n",
    "    elif radius % 7 == 2:\n",
    "        turtle.pencolor(\"yellow\")\n",
    "    elif radius % 7 == 3:\n",
    "        turtle.pencolor(\"green\")\n",
    "    elif radius % 7 == 4:\n",
    "        turtle.pencolor(\"blue\")\n",
    "    elif radius % 7 == 5:\n",
    "        turtle.pencolor(\"navyblue\")\n",
    "    elif radius % 7 == 6:\n",
    "        turtle.pencolor(\"purple\")\n",
    "    turtle.circle(radius)\n",
    "#터틀을 종료합니다. \n",
    "turtle.done()\n",
    "try:\n",
    "    turtle.bye()\n",
    "except:\n",
    "    print(\"turtle bye!\")\n"
   ]
  },
  {
   "cell_type": "code",
   "execution_count": null,
   "id": "d2fb01cc",
   "metadata": {},
   "outputs": [],
   "source": []
  }
 ],
 "metadata": {
  "kernelspec": {
   "display_name": "Python 3 (ipykernel)",
   "language": "python",
   "name": "python3"
  },
  "language_info": {
   "codemirror_mode": {
    "name": "ipython",
    "version": 3
   },
   "file_extension": ".py",
   "mimetype": "text/x-python",
   "name": "python",
   "nbconvert_exporter": "python",
   "pygments_lexer": "ipython3",
   "version": "3.11.4"
  }
 },
 "nbformat": 4,
 "nbformat_minor": 5
}
