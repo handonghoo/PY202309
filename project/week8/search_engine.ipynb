{
 "cells": [
  {
   "cell_type": "code",
   "execution_count": 1,
   "id": "ddfc14a1",
   "metadata": {},
   "outputs": [
    {
     "name": "stdout",
     "output_type": "stream",
     "text": [
      "영어 쿼리를 입력하세요.we are\n",
      "rank\tIndex\tscore\tsentence\n",
      "1\t180\t0.25\tHow are you?\n",
      "2\t530\t0.2222222222222222\tNow we are working hard for the 21st century.\n",
      "3\t115\t0.2\tThe parks are beautiful.\n",
      "4\t143\t0.2\tBut they are alive.\n",
      "5\t196\t0.2\tIn Theater U-ju, we are playing 'Bear' and 'Star Wars'.\n",
      "6\t283\t0.2\tHumans are no exception.\n",
      "7\t378\t0.2\tWe are going to sell cookies at baseball games, too.\n",
      "8\t93\t0.16666666666666666\tOur money troubles are over!\n",
      "9\t194\t0.16666666666666666\tJudy and Betty are sisters.\n",
      "10\t508\t0.16666666666666666\tSo we may say that sports, like music, are an international language.\n"
     ]
    }
   ],
   "source": [
    "import operator\n",
    "\n",
    "def preprocess(sentence):\n",
    "    preprocessed_sentence = sentence.strip().split(\" \")\n",
    "    return preprocessed_sentence\n",
    "\n",
    "def indexing(file_name):\n",
    "    file_tokens_pairs = []\n",
    "    lines = open(file_name, \"r\", encoding=\"utf8\").readlines()    \n",
    "    for line in lines:\n",
    "        tokens = preprocess(line)\n",
    "        file_tokens_pairs.append(tokens)\n",
    "    return file_tokens_pairs\n",
    "\n",
    "def calc_similarity(preprocessed_query, preprocessed_sentences):\n",
    "    score_dict = {}\n",
    "    for i in range(len(preprocessed_sentences)):        \n",
    "        # 시작: 대소문자 구분 없는 토큰 셋을 만들기 위한 코드\n",
    "        sentence = preprocessed_sentences[i]\n",
    "        query_str = ' '.join(preprocessed_query).lower()\n",
    "        sentence_str = ' '.join(sentence).lower()\n",
    "        preprocessed_query = set(preprocess(query_str))\n",
    "        preprocessed_sentence = preprocess(sentence_str)            \n",
    "        # 끝: 대소문자 구분 없는 토큰 셋을 만들기 위한 코드               \n",
    "        \n",
    "        file_token_set = set(preprocessed_sentence)\n",
    "        all_tokens = preprocessed_query | file_token_set\n",
    "        same_tokens = preprocessed_query & file_token_set\n",
    "        similarity = len(same_tokens) / len(all_tokens)\n",
    "        score_dict[i] = similarity\n",
    "    return score_dict\n",
    "\n",
    "# 1, Indexing\n",
    "file_name =\"jhe-koen-dev.txt\"\n",
    "file_tokens_pairs = indexing(file_name)\n",
    "\n",
    "# 2. Input the query\n",
    "query = input(\"영어 쿼리를 입력하세요.\")\n",
    "preprocessed_query = preprocess(query)\n",
    "query_token_set = set(preprocessed_query)\n",
    "\n",
    "# 3. Calculate similarities based on a same token set\n",
    "score_dict = calc_similarity(query_token_set, file_tokens_pairs)\n",
    "\n",
    "# 4. Sort the similarity list\n",
    "sorted_score_list = sorted(score_dict.items(), key = operator.itemgetter(1), reverse=True)\n",
    "\n",
    "# 5. Print the result\n",
    "if sorted_score_list[0][1] == 0.0:\n",
    "    print(\"There is no similar sentence.\")\n",
    "else:\n",
    "    print(\"rank\", \"Index\", \"score\", \"sentence\", sep = \"\\t\")\n",
    "    rank = 1\n",
    "    for i, score  in sorted_score_list:\n",
    "        print(rank, i, score, ' '.join(file_tokens_pairs[i]), sep = \"\\t\")\n",
    "        if rank == 10:\n",
    "            break\n",
    "        rank = rank + 1"
   ]
  },
  {
   "cell_type": "code",
   "execution_count": null,
   "id": "6e75f217",
   "metadata": {},
   "outputs": [],
   "source": []
  }
 ],
 "metadata": {
  "kernelspec": {
   "display_name": "Python 3 (ipykernel)",
   "language": "python",
   "name": "python3"
  },
  "language_info": {
   "codemirror_mode": {
    "name": "ipython",
    "version": 3
   },
   "file_extension": ".py",
   "mimetype": "text/x-python",
   "name": "python",
   "nbconvert_exporter": "python",
   "pygments_lexer": "ipython3",
   "version": "3.11.4"
  }
 },
 "nbformat": 4,
 "nbformat_minor": 5
}
