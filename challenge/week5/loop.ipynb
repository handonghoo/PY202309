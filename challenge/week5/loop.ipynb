{
 "cells": [
  {
   "cell_type": "code",
   "execution_count": 17,
   "id": "f573092a",
   "metadata": {},
   "outputs": [
    {
     "name": "stdout",
     "output_type": "stream",
     "text": [
      "#     2    ##     3    ##     4    ##     5    ##     6    ##     7    ##     8    ##     9    #\n",
      " 2 X  1 = 3 3 X  1 = 4 4 X  1 = 5 5 X  1 = 6 6 X  1 = 7 7 X  1 = 8 8 X  1 = 9 9 X  1 = 10\n",
      " 2 X  2 = 4 3 X  2 = 5 4 X  2 = 6 5 X  2 = 7 6 X  2 = 8 7 X  2 = 9 8 X  2 = 10 9 X  2 = 11\n",
      " 2 X  3 = 5 3 X  3 = 6 4 X  3 = 7 5 X  3 = 8 6 X  3 = 9 7 X  3 = 10 8 X  3 = 11 9 X  3 = 12\n",
      " 2 X  4 = 6 3 X  4 = 7 4 X  4 = 8 5 X  4 = 9 6 X  4 = 10 7 X  4 = 11 8 X  4 = 12 9 X  4 = 13\n",
      " 2 X  5 = 7 3 X  5 = 8 4 X  5 = 9 5 X  5 = 10 6 X  5 = 11 7 X  5 = 12 8 X  5 = 13 9 X  5 = 14\n",
      " 2 X  6 = 8 3 X  6 = 9 4 X  6 = 10 5 X  6 = 11 6 X  6 = 12 7 X  6 = 13 8 X  6 = 14 9 X  6 = 15\n",
      " 2 X  7 = 9 3 X  7 = 10 4 X  7 = 11 5 X  7 = 12 6 X  7 = 13 7 X  7 = 14 8 X  7 = 15 9 X  7 = 16\n",
      " 2 X  8 = 10 3 X  8 = 11 4 X  8 = 12 5 X  8 = 13 6 X  8 = 14 7 X  8 = 15 8 X  8 = 16 9 X  8 = 17\n",
      " 2 X  9 = 11 3 X  9 = 12 4 X  9 = 13 5 X  9 = 14 6 X  9 = 15 7 X  9 = 16 8 X  9 = 17 9 X  9 = 18\n"
     ]
    }
   ],
   "source": [
    "i, guguLine = 2, \"\"\n",
    "#구구단 윗라인을 표시합니다.\n",
    "while i<10:\n",
    "    guguLine = guguLine + (\"#     %d    #\" % i)\n",
    "    i+=1\n",
    "    \n",
    "print(guguLine)\n",
    "i=1\n",
    "#구구단을 반복문을 통해 출력합니다. \n",
    "while i<10:\n",
    "    guguLine = \"\"\n",
    "    k=2\n",
    "    while k<10:\n",
    "        guguLine += str(\"%2d X %2d = %d\" % (k, i, k + i))\n",
    "        k+=1\n",
    "    print(guguLine)\n",
    "    i+=1\n",
    "\n"
   ]
  },
  {
   "cell_type": "code",
   "execution_count": null,
   "id": "196b2a0d",
   "metadata": {},
   "outputs": [],
   "source": []
  }
 ],
 "metadata": {
  "kernelspec": {
   "display_name": "Python 3 (ipykernel)",
   "language": "python",
   "name": "python3"
  },
  "language_info": {
   "codemirror_mode": {
    "name": "ipython",
    "version": 3
   },
   "file_extension": ".py",
   "mimetype": "text/x-python",
   "name": "python",
   "nbconvert_exporter": "python",
   "pygments_lexer": "ipython3",
   "version": "3.11.4"
  }
 },
 "nbformat": 4,
 "nbformat_minor": 5
}
