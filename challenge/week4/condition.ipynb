{
 "cells": [
  {
   "cell_type": "code",
   "execution_count": 6,
   "id": "de93afc1",
   "metadata": {},
   "outputs": [
    {
     "name": "stdout",
     "output_type": "stream",
     "text": [
      "Is it ranning?(Y/N)y\n",
      "Is it windy?(Y/N)y\n",
      "It is too windy for an umbrella\n"
     ]
    }
   ],
   "source": [
    "# 값을 입력받습니다.\n",
    "rain = input(\"Is it ranning?(Y/N)\")\n",
    "wind = input(\"Is it windy?(Y/N)\")\n",
    "\n",
    "#입력받은 값 2개에 따라 모든 경우의 수에 대한 조건부를 작성합니다.\n",
    "if rain == \"y\" and wind == \"y\":\n",
    "    print(\"It is too windy for an umbrella\")\n",
    "elif rain == \"y\" and wind == \"n\":\n",
    "    print(\"Take an umbrella\")\n",
    "elif rain == \"n\" and wind == \"y\":\n",
    "    print(\"Please take a coat\")\n",
    "elif rain == \"n\" and wind == \"n\":\n",
    "    print(\"Have a nice day\")    \n",
    "else:\n",
    "    print(\"Incorrect input\")\n",
    "#잘못된 값이 입력될시에 표시할 안내문도 작성해줍니다.     \n",
    "\n"
   ]
  },
  {
   "cell_type": "code",
   "execution_count": null,
   "id": "96ece0aa",
   "metadata": {},
   "outputs": [],
   "source": []
  }
 ],
 "metadata": {
  "kernelspec": {
   "display_name": "Python 3 (ipykernel)",
   "language": "python",
   "name": "python3"
  },
  "language_info": {
   "codemirror_mode": {
    "name": "ipython",
    "version": 3
   },
   "file_extension": ".py",
   "mimetype": "text/x-python",
   "name": "python",
   "nbconvert_exporter": "python",
   "pygments_lexer": "ipython3",
   "version": "3.11.4"
  }
 },
 "nbformat": 4,
 "nbformat_minor": 5
}
