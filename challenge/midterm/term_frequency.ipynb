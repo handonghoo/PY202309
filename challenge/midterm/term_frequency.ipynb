{
 "cells": [
  {
   "cell_type": "code",
   "execution_count": 5,
   "id": "f63261c3",
   "metadata": {
    "scrolled": true
   },
   "outputs": [
    {
     "name": "stdout",
     "output_type": "stream",
     "text": [
      "-----TF dictionary-----\n",
      "{'step.': 1, 'likes': 1, 'middle': 1, 'with': 1, 'single': 1, 'glitters': 1, 'she': 1, 'is': 1, 'the': 3, 'over': 1, 'brown': 1, 'miles': 1, 'in': 1, 'books.': 1, 'dog.': 1, 'journey': 1, 'begins': 1, 'all': 1, 'gold.': 1, 'lazy': 1, 'lies': 1, 'to': 1, 'opportunity.': 1, 'a': 3, 'jumps': 1, 'not': 1, 'of': 2, 'difficulty': 1, 'fox': 1, 'read': 1, 'that': 1, 'thousand': 1, 'quick': 1}\n",
      "1 the 3\n",
      "2 a 3\n",
      "3 of 2\n"
     ]
    }
   ],
   "source": [
    "import operator\n",
    "\n",
    "sentences = [\n",
    "    \"The quick brown fox jumps over the lazy dog.\",\n",
    "    \"A journey of a thousand miles begins with a single step.\",\n",
    "    \"All that glitters is not gold.\",    \n",
    "    \"In the middle of difficulty lies opportunity.\",\n",
    "    \"She likes to read books.\"\n",
    "]\n",
    "\n",
    "\n",
    "# TODO 1: 토큰 집합 만들기\n",
    "\n",
    "total_terms = set()\n",
    "for sentence in sentences:\n",
    "    for token in sentence.lower().split():\n",
    "        total_terms.add(token)\n",
    "\n",
    "\n",
    "# TODO 2: 토큰 별 단어 빈도를 딕셔너리에 저장\n",
    "\n",
    "term_frequency_dict = {}\n",
    "for token in total_terms:\n",
    "    term_frequency_dict[token] = 0\n",
    "\n",
    "for sentence in sentences:\n",
    "    for token in sentence.lower().split():\n",
    "        term_frequency_dict[token] += 1\n",
    "\n",
    "\n",
    "# 토큰 빈도 출력\n",
    "print(\"-----TF dictionary-----\")\n",
    "print(term_frequency_dict)\n",
    "\n",
    "\n",
    "# TODO 3: Top-3 토큰 빈도를 갖는 단어의 순위, 단어, 빈도 출력 코드 작성\n",
    "\n",
    "top_3_terms = sorted(term_frequency_dict.items(), key=operator.itemgetter(1), reverse=True)[:3]\n",
    "\n",
    "for idx, (term, frequency) in enumerate(top_3_terms):\n",
    "    print(f\"{idx + 1} {term} {frequency}\")\n",
    "\n"
   ]
  },
  {
   "cell_type": "code",
   "execution_count": null,
   "id": "97ef717c",
   "metadata": {},
   "outputs": [],
   "source": []
  }
 ],
 "metadata": {
  "kernelspec": {
   "display_name": "Python 3 (ipykernel)",
   "language": "python",
   "name": "python3"
  },
  "language_info": {
   "codemirror_mode": {
    "name": "ipython",
    "version": 3
   },
   "file_extension": ".py",
   "mimetype": "text/x-python",
   "name": "python",
   "nbconvert_exporter": "python",
   "pygments_lexer": "ipython3",
   "version": "3.11.4"
  }
 },
 "nbformat": 4,
 "nbformat_minor": 5
}
