{
 "cells": [
  {
   "cell_type": "code",
   "execution_count": 3,
   "id": "d2d544a2",
   "metadata": {
    "scrolled": true
   },
   "outputs": [
    {
     "name": "stdout",
     "output_type": "stream",
     "text": [
      "실바 의 평균 점수는 73.66666666666667 입니다.\n",
      "산토스 의 평균 점수는 86.93333333333334 입니다.\n",
      "맥그리거 의 평균 점수는 85.7 입니다.\n",
      "알도 의 평균 점수는 85.43333333333332 입니다.\n",
      "로우지 의 평균 점수는 83.10000000000001 입니다.\n",
      "누네스 의 평균 점수는 85.93333333333334 입니다.\n"
     ]
    }
   ],
   "source": [
    "# student.csv 파일을 읽습니다.\n",
    "lines = open(\"students.csv\", \"r\", encoding=\"utf8\").readlines()\n",
    "\n",
    "students = {} #학생성적정보를 저장할 딕셔너리\n",
    "\n",
    "#학생정보를 딕셔너리에 저장하는 함수\n",
    "def loadData():\n",
    "    for line in lines [1:]:\n",
    "        # 이름, 국어, 수학, 영어 순으로 데이터를 분리합니다.\n",
    "        name, korean, math, english = line.split(\",\")\n",
    "\n",
    "        # 학생 정보를 딕셔너리에 저장합니다.\n",
    "        students[name] = {\n",
    "            \"korean\": float(korean.strip()),\n",
    "            \"math\": float(math),\n",
    "            \"english\": float(english),\n",
    "        }\n",
    "\n",
    "#학생별 평균 점수를 계산하는 함수\n",
    "def getAverage():\n",
    "    with open(\"average.txt\", \"w\") as output_file:\n",
    "        for name, scores in students.items():\n",
    "            # 평균 점수를 계산합니다.\n",
    "            average = sum(scores.values()) / len(scores.values())\n",
    "\n",
    "            # 평균 점수를 출력합니다.\n",
    "            print(name, \"의 평균 점수는\", average, \"입니다.\")\n",
    "\n",
    "            # 평균 점수를 파일로 출력합니다.\n",
    "            output_file.write(f\"{name}: {average}\\n\")\n",
    "\n",
    "\n",
    "# 학생 정보를 딕셔너리에 저장합니다.\n",
    "loadData()\n",
    "\n",
    "# 학생 별 평균 점수를 계산합니다.\n",
    "getAverage()"
   ]
  }
 ],
 "metadata": {
  "kernelspec": {
   "display_name": "Python 3 (ipykernel)",
   "language": "python",
   "name": "python3"
  },
  "language_info": {
   "codemirror_mode": {
    "name": "ipython",
    "version": 3
   },
   "file_extension": ".py",
   "mimetype": "text/x-python",
   "name": "python",
   "nbconvert_exporter": "python",
   "pygments_lexer": "ipython3",
   "version": "3.11.4"
  }
 },
 "nbformat": 4,
 "nbformat_minor": 5
}
