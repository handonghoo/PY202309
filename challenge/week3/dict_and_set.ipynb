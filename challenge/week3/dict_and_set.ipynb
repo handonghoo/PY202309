{
 "cells": [
  {
   "cell_type": "code",
   "execution_count": null,
   "id": "821575d7",
   "metadata": {},
   "outputs": [],
   "source": [
    "dic = {\"one\": \"일\",\"two\": \"이\",\"three\": \"삼\",\"four\": \"사\",\"five\": \"오\"}\n",
    "\n",
    "numinput = str(input(\"Enter English number from 1 to 5 : \"))\n",
    "print(numinput,\"is\",dic[numinput])"
   ]
  },
  {
   "cell_type": "code",
   "execution_count": null,
   "id": "38f754ba",
   "metadata": {},
   "outputs": [],
   "source": [
    "ratings={\"Moving\":{\"Misoo\":4,\"Kwon\":3,\"Soo\":5},  \n",
    "         \"MaskGirl\":{\"Misoo\":3,\"David\":4,\"Soo\":4},  \n",
    "         \"Oppenheimer\":{\"Kwon\":3,\"Bob\":3,\"David\":4}}\n",
    "movie_names = list(ratings.keys())\n",
    "\n",
    "score_list =  list(ratings[movie_names[0]].values())\n",
    "print(\"Name:\",movie_names[0],\"/ average: \",sum(score_list)/len(score_list))\n",
    "score_list =  list(ratings[movie_names[1]].values())\n",
    "print(\"Name:\",movie_names[1],\"/ average: \",sum(score_list)/len(score_list))\n",
    "score_list =  list(ratings[movie_names[2]].values())\n",
    "print(\"Name:\",movie_names[2],\"/ average: \",sum(score_list)/len(score_list))\n"
   ]
  },
  {
   "cell_type": "code",
   "execution_count": 2,
   "id": "ae930c9e",
   "metadata": {
    "scrolled": true
   },
   "outputs": [
    {
     "name": "stdout",
     "output_type": "stream",
     "text": [
      "Enter user1's 1st friend name:가\n",
      "Enter user1's 2nd friend name:나\n",
      "Enter user1's 3rd friend name:다\n",
      "Enter user2's 1st friend name:라\n",
      "Enter user2's 2nd friend name:마\n",
      "Enter user2's 3rd friend name:바\n",
      "All friend:  {'라', '마', '나', '다', '가', '바'}\n"
     ]
    }
   ],
   "source": [
    "uf1 = set()\n",
    "uf2 = set()\n",
    "\n",
    "uf1.add(input(\"Enter user1's 1st friend name:\"))\n",
    "uf1.add(input(\"Enter user1's 2nd friend name:\"))\n",
    "uf1.add(input(\"Enter user1's 3rd friend name:\"))\n",
    "\n",
    "uf2.add(input(\"Enter user2's 1st friend name:\"))\n",
    "uf2.add(input(\"Enter user2's 2nd friend name:\"))\n",
    "uf2.add(input(\"Enter user2's 3rd friend name:\"))\n",
    "\n",
    "print(\"All friend: \",(uf1|uf2))"
   ]
  }
 ],
 "metadata": {
  "kernelspec": {
   "display_name": "Python 3 (ipykernel)",
   "language": "python",
   "name": "python3"
  },
  "language_info": {
   "codemirror_mode": {
    "name": "ipython",
    "version": 3
   },
   "file_extension": ".py",
   "mimetype": "text/x-python",
   "name": "python",
   "nbconvert_exporter": "python",
   "pygments_lexer": "ipython3",
   "version": "3.11.4"
  }
 },
 "nbformat": 4,
 "nbformat_minor": 5
}
