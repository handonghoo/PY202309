{
 "cells": [
  {
   "cell_type": "code",
   "execution_count": 10,
   "id": "35d2ed2f",
   "metadata": {},
   "outputs": [
    {
     "name": "stdout",
     "output_type": "stream",
     "text": [
      " 4\n",
      " 5\n",
      " 6\n",
      " 7\n",
      " 8\n",
      "Enter 1st number : 4\n",
      "Enter 2nd number : 5\n",
      "Enter 3rd number : 6\n",
      "Enter 4th number : 7\n",
      "Enter 5th number : 8\n",
      "max : 8\n",
      "min : 1st\n",
      "average : 6.0\n"
     ]
    }
   ],
   "source": [
    "f = int(input(\" \"))\n",
    "r = int(input(\" \"))\n",
    "g = int(input(\" \"))\n",
    "h = int(input(\" \"))\n",
    "j = int(input(\" \"))\n",
    "# 임의로 사용자에게서 값을 5개를 받아옵니다.\n",
    "a = [f,r,g,h,j] #받아온 값으로 리스트를 작성 \n",
    "b = [\"1st\",\"2nd\",\"3rd\",\"4th\",\"5th\"]# 리스트를 작성해서 순번을 표시합니다.\n",
    "#노가다로 리스트에서 값을 불러와 출력\n",
    "print(\"Enter\",b[0],\"number :\",a[0])\n",
    "print(\"Enter\",b[1],\"number :\",a[1])\n",
    "print(\"Enter\",b[2],\"number :\",a[2])\n",
    "print(\"Enter\",b[3],\"number :\",a[3])\n",
    "print(\"Enter\",b[4],\"number :\",a[4])\n",
    "# 최대값, 최솟값, 평균을 구합니다. \n",
    "print(\"max :\",max(a))\n",
    "print(\"min :\",min(a))\n",
    "print(\"average :\",sum(a)/len(b))\n",
    "\n",
    "\n"
   ]
  },
  {
   "cell_type": "code",
   "execution_count": 13,
   "id": "cbe0ee01",
   "metadata": {},
   "outputs": [
    {
     "name": "stdout",
     "output_type": "stream",
     "text": [
      "What is your favorite singlefd\n",
      "['bts', 'Black Pink', 'fd']\n"
     ]
    }
   ],
   "source": [
    "singer = ['bts','Black Pink'] #초기리스트를 작성\n",
    "#입력받은 값을 리스트를 병합하여 추가합니다. \n",
    "a = [input(\"What is your favorite single\")]\n",
    "singer.extend(a)\n",
    "print(singer)"
   ]
  },
  {
   "cell_type": "code",
   "execution_count": null,
   "id": "240650c3",
   "metadata": {},
   "outputs": [
    {
     "name": "stdout",
     "output_type": "stream",
     "text": [
      "('tennis', 'football', 'baseball', 'basketball', 'golf')\n"
     ]
    }
   ],
   "source": [
    "sports = ('tennis','football','baseball','basketball','golf')\n",
    "print(sports)#스포츠 종류를 튜플에 넣습니다. \n",
    "a = input(\"Please enter the name from above : \")# 값을 사용자에게 입력받습니다. \n",
    "print(\"golf has index number: \",sports.index(a))#골프의 인덱스 넘버를 구합니다.\n",
    "b = int(input(\"Enter the number between 0 and 4 : \"))#값을 입력받습니다. \n",
    "print(sports[b])#입력한 값을 번지수삼아 스포츠에서 값을 불러옵니다. \n"
   ]
  },
  {
   "cell_type": "code",
   "execution_count": null,
   "id": "a39b9e0d",
   "metadata": {},
   "outputs": [],
   "source": []
  }
 ],
 "metadata": {
  "kernelspec": {
   "display_name": "Python 3 (ipykernel)",
   "language": "python",
   "name": "python3"
  },
  "language_info": {
   "codemirror_mode": {
    "name": "ipython",
    "version": 3
   },
   "file_extension": ".py",
   "mimetype": "text/x-python",
   "name": "python",
   "nbconvert_exporter": "python",
   "pygments_lexer": "ipython3",
   "version": "3.11.4"
  }
 },
 "nbformat": 4,
 "nbformat_minor": 5
}
