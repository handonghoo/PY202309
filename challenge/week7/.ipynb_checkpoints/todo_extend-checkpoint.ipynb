{
 "cells": [
  {
   "cell_type": "code",
   "execution_count": null,
   "id": "35a073b9",
   "metadata": {},
   "outputs": [],
   "source": [
    "import os\n",
    "#할 일 목록을 추가하는 함수\n",
    "def add_task(task_list, task):\n",
    "    task_list.append(task)\n",
    "#할 일 목록을 출력해주는 함수\n",
    "def display_tasks(task_list):\n",
    "    if not task_list:\n",
    "        print(\"할일 목록이 비어 있습니다.\")\n",
    "    else:\n",
    "        print(\"할일 목록:\")\n",
    "    for i in range(len(task_list)):\n",
    "        task = task_list[i]\n",
    "    print(f\"{i+1}. {task}\")\n",
    "#할 일을 파일에 저장해주는 함수\n",
    "def save_tasks_to_file(task_list, filename):\n",
    "    write_fp = open(filename, 'w', encoding=\"utf8\")\n",
    "    for task in task_list:\n",
    "        write_fp.write(task+\"\\n\")\n",
    "        write_fp.close()\n",
    "#파일로 부터 할일 목록을 불러오는 함수\n",
    "def load_tasks_from_file(filename):\n",
    "    task_list = []\n",
    "    read_fp = open(filename, 'r', encoding=\"utf8\")\n",
    "    lines = read_fp.readlines()\n",
    "    for line in lines:\n",
    "        task_list.append(line.strip())\n",
    "        return task_list\n",
    "try:\n",
    "    file_name = input(\"파일 이름을 입력하세요\")\n",
    "    task_list = load_tasks_from_file(file_name)\n",
    "#할 일을 작성\n",
    "    while True:\n",
    "        print(\"\\n할일 관리 프로그램\")\n",
    "        print(\"1. 할일 추가\")\n",
    "        print(\"2. 할일 목록 표시\")\n",
    "        print(\"3. 종료\")\n",
    "\n",
    "        choice = input(\"선택: \")\n",
    "\n",
    "        if choice == '1':\n",
    "            task = input(\"할일을 입력하세요: \")\n",
    "            add_task(task_list, task)\n",
    "            print(\"할일이 추가되었습니다.\")\n",
    "        elif choice == '2':\n",
    "            display_tasks(task_list)\n",
    "        elif choice == '3':\n",
    "            save_tasks_to_file(task_list, file_name)\n",
    "            print(\"프로그램을 종료합니다.\")\n",
    "            break\n",
    "        else:\n",
    "            print(\"잘못된 선택입니다. 다시 시도하세요.\")\n",
    "#파일 이름이 잘못되면 파일이 없음을 알려줌\n",
    "            \n",
    "except IOError :\n",
    "    print(\"파일이 없지롱~\")\n",
    "    "
   ]
  },
  {
   "cell_type": "code",
   "execution_count": null,
   "id": "c5c4473b",
   "metadata": {},
   "outputs": [],
   "source": []
  },
  {
   "cell_type": "code",
   "execution_count": null,
   "id": "1f34e1c8",
   "metadata": {},
   "outputs": [],
   "source": []
  }
 ],
 "metadata": {
  "kernelspec": {
   "display_name": "Python 3 (ipykernel)",
   "language": "python",
   "name": "python3"
  },
  "language_info": {
   "codemirror_mode": {
    "name": "ipython",
    "version": 3
   },
   "file_extension": ".py",
   "mimetype": "text/x-python",
   "name": "python",
   "nbconvert_exporter": "python",
   "pygments_lexer": "ipython3",
   "version": "3.11.4"
  }
 },
 "nbformat": 4,
 "nbformat_minor": 5
}
